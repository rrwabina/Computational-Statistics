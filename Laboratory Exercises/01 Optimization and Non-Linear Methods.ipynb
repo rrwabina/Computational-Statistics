{
 "cells": [
  {
   "attachments": {},
   "cell_type": "markdown",
   "metadata": {},
   "source": [
    "##   Laboratory Exercise: Univariate Optimization\n",
    "DS213: Computational Statistics <br>\n",
    "University of Science and Technology of Southern Philippines <br>\n",
    "\n",
    "**Romen Samuel Wabina, MSc** <br>\n",
    "MSc Data Science and AI | Asian Institute of Technology <br>\n",
    "PhD Data Science (Healthcare and Clinical Informatics) \n"
   ]
  },
  {
   "cell_type": "code",
   "execution_count": 2,
   "metadata": {},
   "outputs": [],
   "source": [
    "import os\n",
    "import sys\n",
    "import glob\n",
    "import matplotlib.pyplot as plt\n",
    "import numpy as np\n",
    "import pandas as pd\n",
    "%matplotlib inline\n",
    "%precision 4\n",
    "plt.style.use('ggplot')"
   ]
  },
  {
   "attachments": {},
   "cell_type": "markdown",
   "metadata": {},
   "source": [
    "**Exercise 1 (10 points)**. Netwon's method for functions of complex variables - stability and basins of attraction.\n",
    "\n",
    "1. Write a function with the following function signature <code>newton(z, f, fprime, max_iter=100, tol=1e-6)</code> where\n",
    "- <code>z</code> is a starting value (a complex number e.g. <code>3 + 4j</code>)\n",
    "- <code>f</code> is a function of <code>z</code>\n",
    "- <code>fprime</code> is the derivative of <code>f</code>\n",
    "The function will run until either max_iter is reached or the absolute value of the Newton step is less than tol. In either case, the function should return the number of iterations taken and the final value of z as a tuple <code>(i, z)</code>.\n",
    "\n",
    "2. Define the function <code>f</code> and <code>fprime</code> that will result in Newton's method finding the cube roots of 1. Find 3 starting points that will give different roots, and print both the start and end points."
   ]
  },
  {
   "cell_type": "code",
   "execution_count": null,
   "metadata": {},
   "outputs": [],
   "source": [
    "# Insert your code here"
   ]
  },
  {
   "attachments": {},
   "cell_type": "markdown",
   "metadata": {},
   "source": [
    "**Exercise 2 (10 points)**. Write the following two plotting functions to see some (pretty) aspects of Newton's algorithm in the complex plane.\n",
    "\n",
    "1. The first function <code>plot_newton_iters(f, fprime, n=200, extent=[-1,1,-1,1], cmap='hsv')</code> calculates and stores the number of iterations taken for convergence (or max_iter) for each point in a 2D array. The 2D array limits are given by <code>extent</code> - for example, when <code>extent = [-1,1,-1,1]</code> the corners of the plot are <code>(-i, -i), (1, -i), (1, i), (-1, i)</code>. There are <code>n</code> grid points in both the real and imaginary axes. The argument <code>cmap</code> specifies the color map to use - the suggested defaults are fine. Finally plot the image using <code>plt.imshow</code> - make sure the axis ticks are correctly scaled. Make a plot for the cube roots of 1.\n",
    "\n",
    "2. The second function <code>plot_newton_basins(f, fprime, n=200, extent=[-1,1,-1,1], cmap='jet')</code> has the same arguments, but this time the grid stores the identity of the root that the starting point converged to. Make a plot for the cube roots of 1 - since there are 3 roots, there should be only 3 colors in the plot."
   ]
  },
  {
   "cell_type": "code",
   "execution_count": null,
   "metadata": {},
   "outputs": [],
   "source": [
    "# Insert your code here"
   ]
  }
 ],
 "metadata": {
  "kernelspec": {
   "display_name": "base",
   "language": "python",
   "name": "python3"
  },
  "language_info": {
   "codemirror_mode": {
    "name": "ipython",
    "version": 3
   },
   "file_extension": ".py",
   "mimetype": "text/x-python",
   "name": "python",
   "nbconvert_exporter": "python",
   "pygments_lexer": "ipython3",
   "version": "3.8.5"
  },
  "orig_nbformat": 4,
  "vscode": {
   "interpreter": {
    "hash": "3608206ce1eb198bd23abae205dd191f991de1c92dbe872a18ef9e948d8a869d"
   }
  }
 },
 "nbformat": 4,
 "nbformat_minor": 2
}
