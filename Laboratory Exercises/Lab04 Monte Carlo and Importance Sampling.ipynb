{
 "cells": [
  {
   "attachments": {},
   "cell_type": "markdown",
   "metadata": {},
   "source": [
    "# DS321: Computational Statistics <br>\n",
    "\n",
    "##   Laboratory Exercise: Monte Carlo\n",
    "\n",
    "University of Science and Technology of Southern Philippines <br>\n",
    "\n",
    "## Student Name: <code>Romen Samuel Wabina</code>\n",
    "\n",
    "\n",
    "Instructor: **Romen Samuel Wabina, MSc** <br>\n",
    "MSc Data Science and AI | Asian Institute of Technology <br>\n",
    "*ongoing* PhD Data Science (Healthcare and Clinical Informatics) \n",
    "\n",
    "\n",
    "### Instructions\n",
    "- Please submit this laboratory exercise as a **Jupyter Notebook file** <code>.ipynb</code> via email <code>romensamuelrodis.wab@student.mahidol.edu</code>"
   ]
  },
  {
   "cell_type": "code",
   "execution_count": 2,
   "metadata": {
    "collapsed": true
   },
   "outputs": [],
   "source": [
    "import numpy as np\n",
    "import seaborn as sns\n",
    "from tqdm import trange\n",
    "from scipy.stats import norm\n",
    "import matplotlib.pyplot as plt\n",
    "\n",
    "%matplotlib inline\n",
    "plt.rcParams['font.size'] = 10\n",
    "plt.rcParams['axes.labelsize'] = 10\n",
    "plt.rcParams['axes.titlesize'] = 10\n",
    "plt.rcParams['xtick.labelsize'] = 8\n",
    "plt.rcParams['ytick.labelsize'] = 8\n",
    "plt.rcParams['legend.fontsize'] = 10\n",
    "plt.rcParams['figure.titlesize'] = 12\n",
    "plt.rcParams['figure.figsize'] = (15.0, 8.0)\n",
    "sns.set_style(\"white\")\n",
    "\n",
    "plot_dir = './plots/'"
   ]
  },
  {
   "attachments": {},
   "cell_type": "markdown",
   "metadata": {},
   "source": [
    "A simulation is the imitation of the operation of a real-world process or system over time. Simulations require the use of models or key characteristics or behaviors of the selected system or process, where the simulation represents the evolution of the model over time. Historically, simulations used in different fields developed largely independently, but 20th-century studies of systems theory and cybernetics combined with spreading use of computers across all those fields have led to some unification and a more systematic view of the  concept.\n",
    "\n",
    "There different well known types of simulation: Physical simulation, Continuous simulation or Discrete-event simulation, which studies systems whose states change their values only at discrete times. \n",
    "\n",
    "Stochastic simulation is a simulation in which a variable or process is subject to random variations and is designed using Monte Carlo techniques using pseudo-random numbers. In this way, replicated runs  with the same boundary conditions will lead to different results within a certain range of confidence\n",
    "\n",
    "A computer simulation :  <code>sim</code> is an attempt to model a real-life or hypothetical situation on a computer so that it can be studied to see how the system works. By changing variables in the simulation, predictions may be made about the behaviour of the system. It is a tool to virtually investigate the behaviour of the system under study."
   ]
  },
  {
   "attachments": {},
   "cell_type": "markdown",
   "metadata": {},
   "source": [
    "A Monte Carlo Simulation is **a problem-solving technique used to approximate the probability of certain outcomes by running multiple trial runs, called simulations, using random variables.** ... It then simulates the completion of remaining work and produces a histogram showing the distribution of possible delivery dates. It has 4 steps:<br>\n",
    "   \n",
    "1. Define the distribution of possible inputs for each input random variable.\n",
    "2. Generate the inputs randomly for those distributions.\n",
    "3. Perform the deterministic computation using that set of inputs.\n",
    "4. Aggregate the results in the individual computation into a final result."
   ]
  },
  {
   "attachments": {},
   "cell_type": "markdown",
   "metadata": {},
   "source": [
    "# Monte Carlo Algorithm for $\\pi$ Estimation in Python\n",
    "\n",
    "This notebook will demonstrate how to estimate $\\pi$ using a Monte Carlo algorithm."
   ]
  },
  {
   "cell_type": "code",
   "execution_count": 14,
   "metadata": {},
   "outputs": [],
   "source": [
    "import numpy as np\n",
    "import matplotlib.pyplot as plt\n",
    "import math\n",
    "import pandas as pd"
   ]
  },
  {
   "attachments": {},
   "cell_type": "markdown",
   "metadata": {},
   "source": [
    "We choose the number of points and we randomly select them:"
   ]
  },
  {
   "cell_type": "code",
   "execution_count": 4,
   "metadata": {},
   "outputs": [],
   "source": [
    "n_points = 1000\n",
    "x_data = np.random.rand(n_points)\n",
    "y_data = np.random.rand(n_points)"
   ]
  },
  {
   "attachments": {},
   "cell_type": "markdown",
   "metadata": {},
   "source": [
    "We count how many points are inside the circle:"
   ]
  },
  {
   "cell_type": "code",
   "execution_count": 5,
   "metadata": {},
   "outputs": [],
   "source": [
    "n_circle = 0\n",
    "for i in range(0,n_points-1):\n",
    "    if (math.sqrt(x_data[i] ** 2 + y_data[i]**2) <= 1):\n",
    "        n_circle = n_circle+1"
   ]
  },
  {
   "attachments": {},
   "cell_type": "markdown",
   "metadata": {},
   "source": [
    "So our approximation of $\\pi$ is:"
   ]
  },
  {
   "cell_type": "code",
   "execution_count": 6,
   "metadata": {},
   "outputs": [
    {
     "name": "stdout",
     "output_type": "stream",
     "text": [
      "3.18\n"
     ]
    }
   ],
   "source": [
    "aprox_pi = 4*(n_circle/n_points)\n",
    "print(aprox_pi)"
   ]
  },
  {
   "attachments": {},
   "cell_type": "markdown",
   "metadata": {},
   "source": [
    "The percent error is:"
   ]
  },
  {
   "cell_type": "code",
   "execution_count": 7,
   "metadata": {},
   "outputs": [
    {
     "data": {
      "text/plain": [
       "1.2225438064454426"
      ]
     },
     "execution_count": 7,
     "metadata": {},
     "output_type": "execute_result"
    }
   ],
   "source": [
    "100*math.fabs(math.pi-aprox_pi)/math.pi"
   ]
  },
  {
   "cell_type": "code",
   "execution_count": 8,
   "metadata": {},
   "outputs": [],
   "source": [
    "circle_x = x_data[np.sqrt(x_data**2+y_data**2)<=1]\n",
    "circle_y = y_data[np.sqrt(x_data**2+y_data**2)<=1]"
   ]
  },
  {
   "cell_type": "code",
   "execution_count": 9,
   "metadata": {},
   "outputs": [
    {
     "data": {
      "image/png": "[encoded data removed]",
      "text/plain": [
       "<Figure size 432x288 with 1 Axes>"
      ]
     },
     "metadata": {
      "needs_background": "light"
     },
     "output_type": "display_data"
    }
   ],
   "source": [
    "fig = plt.figure()\n",
    "plot = fig.add_subplot(111)\n",
    "plot.scatter(x_data, y_data, marker='.', color='blue')\n",
    "plot.scatter(circle_x,circle_y, marker='.', color='red')\n",
    "\n",
    "x = np.linspace(0, 1, 100)\n",
    "y = np.sqrt(1-x**2)\n",
    "\n",
    "plot.plot(x,y,color='black')\n",
    "\n",
    "plot.set_aspect(1.0)\n",
    "\n",
    "plt.rcParams['figure.figsize'] = [10, 10]\n",
    "plt.show()"
   ]
  },
  {
   "attachments": {},
   "cell_type": "markdown",
   "metadata": {},
   "source": [
    "$\\pi$ is a constant that represents the ratio of the circumference to the diameter of a circle. It is irrational, meaning it has infinite digits which follow no pattern. This example show and \"uncertan\" estimation of $\\pi $ comparing  a game of darts.\n",
    "As we can see, we are generating random points within a box, and counting the number of points which fall within an embedded circle. For the sake of simplicity, we only look at the upper quadrant of our dartboard, which has a radius R and is mounted on a square piece of wood of the same width. If we throw 100 darts with  the probability of a darts hitting the board will be π/4 , and count the number of darts which successfully hit the dartboard, we might obtain the following plot."
   ]
  },
  {
   "attachments": {},
   "cell_type": "markdown",
   "metadata": {},
   "source": [
    "# Monte Carlo Simulation in Sales Compensation Budget\n",
    "\n",
    "Lets try to predict how much money we should budget for sales commissions for the next year. For example the  task of  Ivancho or Maryika as analyst is to tell finance how much to budget for sales commissions for next year. One approach might be to assume everyone makes 100% of their target and earns the 4% commission rate. The best way to do this prediction is by using Monte Carlo simulation.\n",
    "Becauset commissions has been paid of for several years, Ivancho and Maryika  can look at a typical historical distribution of percent to target. In this case the distribution looks like a normal distribution with a mean of 100% and standard deviation of 10%.\n",
    "<center>\n",
    "<img src=\"figs/pic8.png\">\n",
    "</center>\n"
   ]
  },
  {
   "cell_type": "code",
   "execution_count": 10,
   "metadata": {},
   "outputs": [],
   "source": [
    "avg = 1\n",
    "std_dev = .1\n",
    "num_reps = 500 #number of sales reps\n",
    "num_simulations = 1000 #number of simulation"
   ]
  },
  {
   "cell_type": "code",
   "execution_count": 11,
   "metadata": {},
   "outputs": [],
   "source": [
    "pct_to_target = np.random.normal(avg, std_dev, num_reps).round(2) "
   ]
  },
  {
   "cell_type": "code",
   "execution_count": 12,
   "metadata": {},
   "outputs": [],
   "source": [
    "sales_target_values = [75_000, 100_000, 200_000, 300_000, 400_000, 500_000]\n",
    "sales_target_prob = [.3, .3, .2, .1, .05, .05]\n",
    "sales_target = np.random.choice(sales_target_values, num_reps, p=sales_target_prob)"
   ]
  },
  {
   "cell_type": "code",
   "execution_count": 15,
   "metadata": {},
   "outputs": [
    {
     "data": {
      "text/html": [
       "<div>\n",
       "<style scoped>\n",
       "    .dataframe tbody tr th:only-of-type {\n",
       "        vertical-align: middle;\n",
       "    }\n",
       "\n",
       "    .dataframe tbody tr th {\n",
       "        vertical-align: top;\n",
       "    }\n",
       "\n",
       "    .dataframe thead th {\n",
       "        text-align: right;\n",
       "    }\n",
       "</style>\n",
       "<table border=\"1\" class=\"dataframe\">\n",
       "  <thead>\n",
       "    <tr style=\"text-align: right;\">\n",
       "      <th></th>\n",
       "      <th>Pct_To_Target</th>\n",
       "      <th>Sales_Target</th>\n",
       "      <th>Sales</th>\n",
       "    </tr>\n",
       "  </thead>\n",
       "  <tbody>\n",
       "    <tr>\n",
       "      <th>0</th>\n",
       "      <td>0.84</td>\n",
       "      <td>200000</td>\n",
       "      <td>168000.0</td>\n",
       "    </tr>\n",
       "    <tr>\n",
       "      <th>1</th>\n",
       "      <td>1.05</td>\n",
       "      <td>75000</td>\n",
       "      <td>78750.0</td>\n",
       "    </tr>\n",
       "    <tr>\n",
       "      <th>2</th>\n",
       "      <td>1.01</td>\n",
       "      <td>100000</td>\n",
       "      <td>101000.0</td>\n",
       "    </tr>\n",
       "    <tr>\n",
       "      <th>3</th>\n",
       "      <td>0.95</td>\n",
       "      <td>300000</td>\n",
       "      <td>285000.0</td>\n",
       "    </tr>\n",
       "    <tr>\n",
       "      <th>4</th>\n",
       "      <td>0.92</td>\n",
       "      <td>200000</td>\n",
       "      <td>184000.0</td>\n",
       "    </tr>\n",
       "    <tr>\n",
       "      <th>...</th>\n",
       "      <td>...</td>\n",
       "      <td>...</td>\n",
       "      <td>...</td>\n",
       "    </tr>\n",
       "    <tr>\n",
       "      <th>495</th>\n",
       "      <td>0.99</td>\n",
       "      <td>400000</td>\n",
       "      <td>396000.0</td>\n",
       "    </tr>\n",
       "    <tr>\n",
       "      <th>496</th>\n",
       "      <td>1.13</td>\n",
       "      <td>75000</td>\n",
       "      <td>84750.0</td>\n",
       "    </tr>\n",
       "    <tr>\n",
       "      <th>497</th>\n",
       "      <td>0.97</td>\n",
       "      <td>300000</td>\n",
       "      <td>291000.0</td>\n",
       "    </tr>\n",
       "    <tr>\n",
       "      <th>498</th>\n",
       "      <td>0.95</td>\n",
       "      <td>100000</td>\n",
       "      <td>95000.0</td>\n",
       "    </tr>\n",
       "    <tr>\n",
       "      <th>499</th>\n",
       "      <td>1.01</td>\n",
       "      <td>75000</td>\n",
       "      <td>75750.0</td>\n",
       "    </tr>\n",
       "  </tbody>\n",
       "</table>\n",
       "<p>500 rows × 3 columns</p>\n",
       "</div>"
      ],
      "text/plain": [
       "     Pct_To_Target  Sales_Target     Sales\n",
       "0             0.84        200000  168000.0\n",
       "1             1.05         75000   78750.0\n",
       "2             1.01        100000  101000.0\n",
       "3             0.95        300000  285000.0\n",
       "4             0.92        200000  184000.0\n",
       "..             ...           ...       ...\n",
       "495           0.99        400000  396000.0\n",
       "496           1.13         75000   84750.0\n",
       "497           0.97        300000  291000.0\n",
       "498           0.95        100000   95000.0\n",
       "499           1.01         75000   75750.0\n",
       "\n",
       "[500 rows x 3 columns]"
      ]
     },
     "execution_count": 15,
     "metadata": {},
     "output_type": "execute_result"
    }
   ],
   "source": [
    "df = pd.DataFrame(index=range(num_reps), data={'Pct_To_Target': pct_to_target,\n",
    "                                               'Sales_Target': sales_target})\n",
    "\n",
    "df['Sales'] = df['Pct_To_Target'] * df['Sales_Target']\n",
    "df"
   ]
  },
  {
   "cell_type": "code",
   "execution_count": 16,
   "metadata": {},
   "outputs": [],
   "source": [
    "def calc_commission_rate(x):\n",
    "    \"\"\" Return the commission rate based on the table:\n",
    "    0-90% = 2%\n",
    "    91-99% = 3%\n",
    "    >= 100 = 4%\n",
    "    \"\"\"\n",
    "    if x <= .90:\n",
    "        return .02\n",
    "    if x <= .99:\n",
    "        return .03\n",
    "    else:\n",
    "        return .04"
   ]
  },
  {
   "cell_type": "code",
   "execution_count": 17,
   "metadata": {},
   "outputs": [],
   "source": [
    "df['Commission_Rate'] = df['Pct_To_Target'].apply(calc_commission_rate)\n",
    "df['Commission_Amount'] = df['Commission_Rate'] * df['Sales']"
   ]
  },
  {
   "attachments": {},
   "cell_type": "markdown",
   "metadata": {},
   "source": [
    "And finally the The real “magic” of the Monte Carlo simulation is that if Maryika runs a simulation many times, we start to develop a picture of the likely distribution of results. \n"
   ]
  },
  {
   "cell_type": "code",
   "execution_count": 18,
   "metadata": {},
   "outputs": [],
   "source": [
    "# Define a list to keep all the results from each simulation \n",
    "all_stats = []\n",
    "\n",
    "# Loop through many simulations\n",
    "for i in range(num_simulations):\n",
    "\n",
    "    # Choose random inputs for the sales targets and percent to target\n",
    "    sales_target = np.random.choice(sales_target_values, num_reps, p=sales_target_prob)\n",
    "    pct_to_target = np.random.normal(avg, std_dev, num_reps).round(2)\n",
    "\n",
    "    # Build the dataframe based on the inputs and number of reps\n",
    "    df = pd.DataFrame(index=range(num_reps), data={'Pct_To_Target': pct_to_target,\n",
    "                                                   'Sales_Target': sales_target})\n",
    "\n",
    "    # Back into the sales number using the percent to target rate\n",
    "    df['Sales'] = df['Pct_To_Target'] * df['Sales_Target']\n",
    "\n",
    "    # Determine the commissions rate and calculate it\n",
    "    df['Commission_Rate'] = df['Pct_To_Target'].apply(calc_commission_rate)\n",
    "    df['Commission_Amount'] = df['Commission_Rate'] * df['Sales']\n",
    "\n",
    "    # We want to track sales,commission amounts and sales targets over all the simulations\n",
    "    all_stats.append([df['Sales'].sum().round(0),\n",
    "                      df['Commission_Amount'].sum().round(0),\n",
    "                      df['Sales_Target'].sum().round(0)])"
   ]
  },
  {
   "cell_type": "code",
   "execution_count": 19,
   "metadata": {},
   "outputs": [],
   "source": [
    "results_df = pd.DataFrame.from_records(all_stats, columns=['Sales',\n",
    "                                                           'Commission_Amount',\n",
    "                                                           'Sales_Target'])"
   ]
  },
  {
   "cell_type": "code",
   "execution_count": 20,
   "metadata": {},
   "outputs": [
    {
     "data": {
      "text/html": [
       "<style  type=\"text/css\" >\n",
       "</style><table id=\"T_784ea_\" ><thead>    <tr>        <th class=\"blank level0\" ></th>        <th class=\"col_heading level0 col0\" >Sales</th>        <th class=\"col_heading level0 col1\" >Commission_Amount</th>        <th class=\"col_heading level0 col2\" >Sales_Target</th>    </tr></thead><tbody>\n",
       "                <tr>\n",
       "                        <th id=\"T_784ea_level0_row0\" class=\"row_heading level0 row0\" >count</th>\n",
       "                        <td id=\"T_784ea_row0_col0\" class=\"data row0 col0\" >1,000.0</td>\n",
       "                        <td id=\"T_784ea_row0_col1\" class=\"data row0 col1\" >1,000.0</td>\n",
       "                        <td id=\"T_784ea_row0_col2\" class=\"data row0 col2\" >1,000.0</td>\n",
       "            </tr>\n",
       "            <tr>\n",
       "                        <th id=\"T_784ea_level0_row1\" class=\"row_heading level0 row1\" >mean</th>\n",
       "                        <td id=\"T_784ea_row1_col0\" class=\"data row1 col0\" >83,727,055.0</td>\n",
       "                        <td id=\"T_784ea_row1_col1\" class=\"data row1 col1\" >2,859,283.264</td>\n",
       "                        <td id=\"T_784ea_row1_col2\" class=\"data row1 col2\" >83,709,275.0</td>\n",
       "            </tr>\n",
       "            <tr>\n",
       "                        <th id=\"T_784ea_level0_row2\" class=\"row_heading level0 row2\" >std</th>\n",
       "                        <td id=\"T_784ea_row2_col0\" class=\"data row2 col0\" >2,745,181.356195507</td>\n",
       "                        <td id=\"T_784ea_row2_col1\" class=\"data row2 col1\" >102,926.68515775619</td>\n",
       "                        <td id=\"T_784ea_row2_col2\" class=\"data row2 col2\" >2,703,011.44471222</td>\n",
       "            </tr>\n",
       "            <tr>\n",
       "                        <th id=\"T_784ea_level0_row3\" class=\"row_heading level0 row3\" >min</th>\n",
       "                        <td id=\"T_784ea_row3_col0\" class=\"data row3 col0\" >74,069,500.0</td>\n",
       "                        <td id=\"T_784ea_row3_col1\" class=\"data row3 col1\" >2,461,642.0</td>\n",
       "                        <td id=\"T_784ea_row3_col2\" class=\"data row3 col2\" >74,975,000.0</td>\n",
       "            </tr>\n",
       "            <tr>\n",
       "                        <th id=\"T_784ea_level0_row4\" class=\"row_heading level0 row4\" >25%</th>\n",
       "                        <td id=\"T_784ea_row4_col0\" class=\"data row4 col0\" >81,883,250.0</td>\n",
       "                        <td id=\"T_784ea_row4_col1\" class=\"data row4 col1\" >2,792,373.0</td>\n",
       "                        <td id=\"T_784ea_row4_col2\" class=\"data row4 col2\" >81,900,000.0</td>\n",
       "            </tr>\n",
       "            <tr>\n",
       "                        <th id=\"T_784ea_level0_row5\" class=\"row_heading level0 row5\" >50%</th>\n",
       "                        <td id=\"T_784ea_row5_col0\" class=\"data row5 col0\" >83,703,125.0</td>\n",
       "                        <td id=\"T_784ea_row5_col1\" class=\"data row5 col1\" >2,855,532.5</td>\n",
       "                        <td id=\"T_784ea_row5_col2\" class=\"data row5 col2\" >83,812,500.0</td>\n",
       "            </tr>\n",
       "            <tr>\n",
       "                        <th id=\"T_784ea_level0_row6\" class=\"row_heading level0 row6\" >75%</th>\n",
       "                        <td id=\"T_784ea_row6_col0\" class=\"data row6 col0\" >85,551,437.5</td>\n",
       "                        <td id=\"T_784ea_row6_col1\" class=\"data row6 col1\" >2,925,501.25</td>\n",
       "                        <td id=\"T_784ea_row6_col2\" class=\"data row6 col2\" >85,556,250.0</td>\n",
       "            </tr>\n",
       "            <tr>\n",
       "                        <th id=\"T_784ea_level0_row7\" class=\"row_heading level0 row7\" >max</th>\n",
       "                        <td id=\"T_784ea_row7_col0\" class=\"data row7 col0\" >95,101,500.0</td>\n",
       "                        <td id=\"T_784ea_row7_col1\" class=\"data row7 col1\" >3,222,472.0</td>\n",
       "                        <td id=\"T_784ea_row7_col2\" class=\"data row7 col2\" >95,150,000.0</td>\n",
       "            </tr>\n",
       "    </tbody></table>"
      ],
      "text/plain": [
       "<pandas.io.formats.style.Styler at 0x21bbef9ca00>"
      ]
     },
     "execution_count": 20,
     "metadata": {},
     "output_type": "execute_result"
    }
   ],
   "source": [
    "results_df.describe().style.format('{:,}')"
   ]
  },
  {
   "attachments": {},
   "cell_type": "markdown",
   "metadata": {},
   "source": [
    "<center>\n",
    "<img src=\"figs/pic11.png\">\n",
    "</center>"
   ]
  },
  {
   "attachments": {},
   "cell_type": "markdown",
   "metadata": {},
   "source": [
    "# Question Prompt\n",
    "\n",
    "Given the following current equation\n",
    "\n",
    "$$I(\\Delta L, \\Delta V_{TH}) = \\frac{50}{0.1 + \\Delta L} (0.6 - \\Delta V_{TH})^2$$\n",
    "\n",
    "* $\\Delta L \\sim \\ N(0, 0.01^2)$\n",
    "* $\\Delta V_{TH} \\sim \\ N(0, 0.03^2)$\n",
    "\n",
    "We would like to calculate $P(I > 275)$ using direct Monte-Carlo and Importance Sampling."
   ]
  },
  {
   "attachments": {},
   "cell_type": "markdown",
   "metadata": {},
   "source": [
    "## Direct Monte-Carlo Estimation\n",
    "\n",
    "In MC estimation, we approximate an integral by the sample mean of a function of simulated random variables. In more mathematical terms,\n",
    "\n",
    "$$\\int p(x)\\ f(x)\\ dx = \\mathbb{E}_{p(x)} \\big[\\ f(x) \\big] \\approx \\frac{1}{N} \\sum_{n=1}^{N}f(x_n)$$\n",
    "\n",
    "where $x_n \\sim \\ p(x)$.\n",
    "\n",
    "A useful application of MC is probability estimation. In fact, we can cast a probability as an expectation using the indicator function. In our case, given that $A = \\{I \\ | \\ I > 275\\}$, we define $f(x)$ as\n",
    "\n",
    "$$f(x) = I_{A}(x)= \\begin{cases} \n",
    "      1 & I \\geq 275 \\\\\n",
    "      0 & I < 275 \n",
    "   \\end{cases}$$\n",
    "   \n",
    "Replacing in our equation above, we get\n",
    "\n",
    "$$\\int p(x) \\ f(x) \\ dx = \\int I(x)\\ p(x) \\ d(x) = \\int_{x \\in A} p(x)\\ d(x) \\approx \\frac{1}{N} \\sum_{n=1}^{N}I_{A}(x_n)$$"
   ]
  },
  {
   "cell_type": "code",
   "execution_count": 9,
   "metadata": {
    "collapsed": true
   },
   "outputs": [],
   "source": [
    "def monte_carlo_proba(num_simulations, num_samples, verbose=True, plot=False):\n",
    "    \n",
    "    if verbose:\n",
    "        print(\"{} Monte Carlo Simulations of size {}\".format(num_simulations, num_samples))\n",
    "    \n",
    "    num_samples = int(num_samples)\n",
    "    num_simulations = int(num_simulations)\n",
    "    \n",
    "    probas = []\n",
    "    for i in range(num_simulations):\n",
    "        mu_1, sigma_1 = 0, 0.01\n",
    "        mu_2, sigma_2 = 0, 0.03\n",
    "\n",
    "        length  = np.random.normal(mu_1, sigma_1, num_samples)\n",
    "        voltage = np.random.normal(mu_2, sigma_2, num_samples)\n",
    "\n",
    "        num = 50 * np.square((0.6 - voltage))\n",
    "        denum = 0.1 + length\n",
    "        I = num / denum\n",
    "        \n",
    "        true_condition = np.where(I >= 275)\n",
    "        false_condition = np.where(I < 275)\n",
    "        num_true = true_condition[0].shape[0]\n",
    "        proba = num_true / num_samples\n",
    "        probas.append(proba)\n",
    "        \n",
    "        if plot:\n",
    "            if i == (num_simulations - 1):\n",
    "                plt.scatter(length[true_condition], voltage[true_condition], color='r')\n",
    "                plt.scatter(length[false_condition], voltage[false_condition], color='b')\n",
    "                plt.xlabel(r'$\\Delta L$ [$\\mu$m]')\n",
    "                plt.ylabel(r'$\\Delta V_{TH}$ [V]')\n",
    "                plt.title(\"Monte Carlo Estimation of P(I > 275)\")\n",
    "                plt.grid(True)\n",
    "                plt.show()\n",
    "    \n",
    "    \n",
    "    mean_proba = np.mean(probas)\n",
    "    std_proba = np.std(probas)\n",
    "    \n",
    "    if verbose:\n",
    "        print(\"Probability mean: {:0.5f}\".format(mean_proba))\n",
    "        print(\"Probability std:  {:0.5f}\".format(std_proba))\n",
    "    \n",
    "    return probas"
   ]
  },
  {
   "cell_type": "code",
   "execution_count": 10,
   "metadata": {},
   "outputs": [
    {
     "name": "stdout",
     "output_type": "stream",
     "text": [
      "100 Monte Carlo Simulations of size 10000\n"
     ]
    },
    {
     "data": {
      "image/png": "[encoded data removed]",
      "text/plain": [
       "<Figure size 1080x576 with 1 Axes>"
      ]
     },
     "metadata": {},
     "output_type": "display_data"
    },
    {
     "name": "stdout",
     "output_type": "stream",
     "text": [
      "Probability mean: 0.00212\n",
      "Probability std:  0.00049\n"
     ]
    }
   ],
   "source": [
    "probas = monte_carlo_proba(100, 10000, plot = True)"
   ]
  },
  {
   "cell_type": "code",
   "execution_count": 11,
   "metadata": {},
   "outputs": [],
   "source": [
    "def MC_histogram(num_samples, plot=True):\n",
    "    \n",
    "    num_samples = int(num_samples)\n",
    "    \n",
    "    mu_1, sigma_1 = 0, 0.01\n",
    "    mu_2, sigma_2 = 0, 0.03\n",
    "\n",
    "    length = np.random.normal(mu_1, sigma_1, num_samples)\n",
    "    voltage = np.random.normal(mu_2, sigma_2, num_samples)\n",
    "\n",
    "    num = 50 * np.square((0.6 - voltage))\n",
    "    denum = 0.1 + length\n",
    "    I = num / denum\n",
    "    \n",
    "    if plot:\n",
    "        n, bins, patches = plt.hist(I, 50, facecolor='green', alpha=0.75)\n",
    "        plt.ylabel('Number of Samples')\n",
    "        plt.xlabel(r'$I_{DS}$ [$\\mu$A]')\n",
    "        plt.title(\"Monte Carlo Estimation of P(I > 275)\")\n",
    "        plt.grid(True)\n",
    "        plt.show()"
   ]
  },
  {
   "cell_type": "code",
   "execution_count": 12,
   "metadata": {},
   "outputs": [
    {
     "data": {
      "image/png": "[encoded data removed]",
      "text/plain": [
       "<Figure size 1080x576 with 1 Axes>"
      ]
     },
     "metadata": {},
     "output_type": "display_data"
    }
   ],
   "source": [
    "MC_histogram(1e6)"
   ]
  },
  {
   "cell_type": "code",
   "execution_count": 13,
   "metadata": {},
   "outputs": [
    {
     "name": "stdout",
     "output_type": "stream",
     "text": [
      "Iter 1/4\n",
      "Iter 2/4\n",
      "Iter 3/4\n",
      "Iter 4/4\n"
     ]
    }
   ],
   "source": [
    "num_samples = [1e3, 1e4, 1e5, 1e6]\n",
    "num_repetitions = 25\n",
    "\n",
    "total_probas = []\n",
    "for i, num_sample in enumerate(num_samples):\n",
    "    print(\"Iter {}/{}\".format(i+1, len(num_samples)))\n",
    "    probas = monte_carlo_proba(num_repetitions, num_sample, verbose=False)\n",
    "    total_probas.append(probas)"
   ]
  },
  {
   "cell_type": "code",
   "execution_count": 14,
   "metadata": {},
   "outputs": [
    {
     "data": {
      "image/png": "[encoded data removed]",
      "text/plain": [
       "<Figure size 1080x576 with 1 Axes>"
      ]
     },
     "metadata": {},
     "output_type": "display_data"
    }
   ],
   "source": [
    "y_axis = np.asarray(total_probas)\n",
    "x_axis = np.asarray(num_samples)\n",
    "\n",
    "for x, y in zip(x_axis, y_axis):\n",
    "    plt.scatter([x] * len(y), y, s=12)\n",
    "\n",
    "plt.xscale('log')\n",
    "plt.title(\"Direct Monte-Carlo Estimation\")\n",
    "plt.ylabel(\"Probability Estimate\")\n",
    "plt.xlabel('Number of Samples')\n",
    "plt.grid(True)\n",
    "plt.show()"
   ]
  },
  {
   "attachments": {},
   "cell_type": "markdown",
   "metadata": {},
   "source": [
    "## Importance Sampling"
   ]
  },
  {
   "attachments": {},
   "cell_type": "markdown",
   "metadata": {
    "collapsed": true
   },
   "source": [
    "Importance sampling is a Monte Carlo method for evaluating properties of a particular distribution, while only having samples generated from a different distribution than the distribution of interest. Importance sampling is a variance reduction technique that can be used in the Monte Carlo method. The idea behind importance sampling is that certain values of the input random variables in a simulation have more impact on the parameter being estimated than others. If these \"important\" values are emphasized by sampling more frequently, then the estimator variance can be reduced. Hence, the basic methodology in importance sampling is to choose a distribution which \"encourages\" the important values.\n",
    "\n",
    "\n",
    "With importance sampling, we try to reduce the variance of our Monte-Carlo integral estimation by choosing a better distribution from which to simulate our random variables. It involves multiplying the integrand by 1 (usually dressed up in a “tricky fashion”) to yield an expectation of a quantity that varies less than the original integrand over the region of integration. Concretely,\n",
    "\n",
    "$$\\mathbb{E}_{p(x)} \\big[\\ f(x) \\big] = \\int f(x)\\ p(x)\\ dx = \\int f(x)\\ p(x)\\ \\frac{q(x)}{q(x)}\\ dx = \\int \\frac{p(x)}{q(x)}\\cdot f(x)\\ q(x)\\ dx = \\mathbb{E}_{q(x)}  \\big[\\ f(x)\\cdot \\frac{p(x)}{q(x)} \\big]$$\n",
    "\n",
    "Thus, the MC estimation of the expectation becomes:\n",
    "\n",
    "$$\\mathbb{E}_{q(x)}  \\big[\\ f(x)\\cdot \\frac{p(x)}{q(x)} \\big] \\approx \\frac{1}{N} \\sum_{n=1}^{N} w_n \\cdot f(x_n)$$\n",
    "\n",
    "where $w_n = \\dfrac{p(x_n)}{q(x_n)}$"
   ]
  },
  {
   "attachments": {},
   "cell_type": "markdown",
   "metadata": {},
   "source": [
    "In our current example above, we can alter the mean and/or standard deviation of $\\Delta L$ and $\\Delta V_{TH}$ in the hopes that more of our sampling points will fall in the failure region (red area). For example, let us define 2 new distributions with altered $\\sigma^2$.\n",
    "\n",
    "* $\\Delta \\hat{L} \\sim \\ N(0, 0.02^2)$\n",
    "* $\\Delta \\hat{V}_{TH} \\sim \\ N(0, 0.06^2)$"
   ]
  },
  {
   "cell_type": "code",
   "execution_count": 14,
   "metadata": {
    "collapsed": true
   },
   "outputs": [],
   "source": [
    "def importance_sampling(num_simulations, num_samples, verbose=True, plot=False):\n",
    "    \n",
    "    if verbose:\n",
    "        print(\"{} Importance Sampling Simulations of size {}\".format(num_simulations, num_samples))\n",
    "    \n",
    "    num_simulations = int(num_simulations)\n",
    "    num_samples = int(num_samples)\n",
    "    \n",
    "    probas = []\n",
    "    for i in range(num_simulations):\n",
    "        mu_1, sigma_1 = 0, 0.01\n",
    "        mu_2, sigma_2 = 0, 0.03\n",
    "        mu_1_n, sigma_1_n = 0, 0.02\n",
    "        mu_2_n, sigma_2_n = 0, 0.06\n",
    "        \n",
    "        # setup pdfs\n",
    "        old_pdf_1 = norm(mu_1, sigma_1)\n",
    "        new_pdf_1 = norm(mu_1_n, sigma_1_n)\n",
    "        old_pdf_2 = norm(mu_2, sigma_2)\n",
    "        new_pdf_2 = norm(mu_2_n, sigma_2_n)\n",
    "\n",
    "        length = np.random.normal(mu_1_n, sigma_1_n, num_samples)\n",
    "        voltage = np.random.normal(mu_2_n, sigma_2_n, num_samples)\n",
    "        \n",
    "        # calculate current\n",
    "        num = 50 * np.square((0.6 - voltage))\n",
    "        denum = 0.1 + length\n",
    "        I = num / denum\n",
    "        \n",
    "        # calculate f\n",
    "        true_condition = np.where(I >= 275)\n",
    "\n",
    "        # calculate weight\n",
    "        num = old_pdf_1.pdf(length) * old_pdf_2.pdf(voltage)\n",
    "        denum = new_pdf_1.pdf(length) * new_pdf_2.pdf(voltage)\n",
    "        weights = num / denum\n",
    "\n",
    "        # select weights for nonzero f\n",
    "        weights = weights[true_condition]\n",
    "\n",
    "        # compute unbiased proba\n",
    "        proba = np.sum(weights) / num_samples\n",
    "        probas.append(proba)\n",
    "        \n",
    "        false_condition = np.where(I < 275)\n",
    "        if plot:\n",
    "            if i == num_simulations -1:\n",
    "                plt.scatter(length[true_condition], voltage[true_condition], color='r')\n",
    "                plt.scatter(length[false_condition], voltage[false_condition], color='b')\n",
    "                plt.xlabel(r'$\\Delta L$ [$\\mu$m]')\n",
    "                plt.ylabel(r'$\\Delta V_{TH}$ [V]')\n",
    "                plt.title(\"Monte Carlo Estimation of P(I > 275)\")\n",
    "                plt.grid(True)\n",
    "                plt.show()\n",
    "    \n",
    "    \n",
    "    mean_proba = np.mean(probas)\n",
    "    std_proba = np.std(probas)\n",
    "    \n",
    "    if verbose:\n",
    "        print(\"Probability mean: {}\".format(mean_proba))\n",
    "        print(\"Probability std:  {}\".format(std_proba))\n",
    "    \n",
    "    return probas"
   ]
  },
  {
   "cell_type": "code",
   "execution_count": 15,
   "metadata": {},
   "outputs": [
    {
     "name": "stdout",
     "output_type": "stream",
     "text": [
      "10 Importance Sampling Simulations of size 10000\n",
      "Probability mean: 0.0021540976508471047\n",
      "Probability std:  0.00013526835264929924\n"
     ]
    }
   ],
   "source": [
    "probas = importance_sampling(10, 10000, plot=False)"
   ]
  },
  {
   "cell_type": "code",
   "execution_count": 19,
   "metadata": {
    "collapsed": true
   },
   "outputs": [],
   "source": [
    "def IS_histogram(num_samples, plot=True):\n",
    "    \n",
    "    num_samples = int(num_samples)\n",
    "\n",
    "    mu_1_n, sigma_1_n = 0, 0.02\n",
    "    mu_2_n, sigma_2_n = 0, 0.06\n",
    "\n",
    "    length = np.random.normal(mu_1_n, sigma_1_n, num_samples)\n",
    "    voltage = np.random.normal(mu_2_n, sigma_2_n, num_samples)\n",
    "\n",
    "    # calculate biased current\n",
    "    num = 50 * np.square((0.6 - voltage))\n",
    "    denum = 0.1 + length\n",
    "    I = num / denum\n",
    "\n",
    "    if plot:\n",
    "        n, bins, patches = plt.hist(I, 50, facecolor = 'green', alpha=0.75)\n",
    "        plt.ylabel('Number of Samples')\n",
    "        plt.xlabel(r'$I_{DS}$ [$\\mu$A]')\n",
    "        plt.title(\"Importance Sampling of P(I > 275)\")\n",
    "        plt.grid(True)\n",
    "        plt.show()"
   ]
  },
  {
   "cell_type": "code",
   "execution_count": 20,
   "metadata": {},
   "outputs": [
    {
     "data": {
      "image/png": "[encoded data removed]",
      "text/plain": [
       "<Figure size 1080x576 with 1 Axes>"
      ]
     },
     "metadata": {},
     "output_type": "display_data"
    }
   ],
   "source": [
    "IS_histogram(1e5)"
   ]
  },
  {
   "cell_type": "code",
   "execution_count": 21,
   "metadata": {},
   "outputs": [
    {
     "name": "stdout",
     "output_type": "stream",
     "text": [
      "Iter 1/4\n",
      "Iter 2/4\n",
      "Iter 3/4\n",
      "Iter 4/4\n"
     ]
    }
   ],
   "source": [
    "num_samples = [1e3, 1e4, 1e5, 1e6]\n",
    "num_repetitions = 25\n",
    "\n",
    "total_probas = []\n",
    "for i, num_sample in enumerate(num_samples):\n",
    "    print(\"Iter {}/{}\".format(i+1, len(num_samples)))\n",
    "    probas = importance_sampling(num_repetitions, num_sample, verbose=False)\n",
    "    total_probas.append(probas)"
   ]
  },
  {
   "cell_type": "code",
   "execution_count": 84,
   "metadata": {},
   "outputs": [
    {
     "data": {
      "image/png": "[encoded data removed]",
      "text/plain": [
       "<matplotlib.figure.Figure at 0x108197588>"
      ]
     },
     "metadata": {},
     "output_type": "display_data"
    }
   ],
   "source": [
    "y_axis = np.asarray(total_probas)\n",
    "x_axis = np.asarray(num_samples)\n",
    "\n",
    "for x, y in zip(x_axis, y_axis):\n",
    "    plt.scatter([x] * len(y), y, s=12)\n",
    "    \n",
    "plt.xscale('log')\n",
    "plt.title(\"Importance Sampling\")\n",
    "plt.ylabel(\"Probability Estimate\")\n",
    "plt.xlabel('Number of Samples')\n",
    "plt.grid(True)\n",
    "plt.savefig(plot_dir + 'imp_sampling_convergence_speed.pdf', format='pdf', dpi=300)\n",
    "plt.show()"
   ]
  },
  {
   "attachments": {},
   "cell_type": "markdown",
   "metadata": {},
   "source": [
    "## References\n",
    "\n",
    "* http://ib.berkeley.edu/labs/slatkin/eriq/classes/guest_lect/mc_lecture_notes.pdf"
   ]
  }
 ],
 "metadata": {
  "kernelspec": {
   "display_name": "Python 3",
   "language": "python",
   "name": "python3"
  },
  "language_info": {
   "codemirror_mode": {
    "name": "ipython",
    "version": 3
   },
   "file_extension": ".py",
   "mimetype": "text/x-python",
   "name": "python",
   "nbconvert_exporter": "python",
   "pygments_lexer": "ipython3",
   "version": "3.9.2"
  }
 },
 "nbformat": 4,
 "nbformat_minor": 2
}
