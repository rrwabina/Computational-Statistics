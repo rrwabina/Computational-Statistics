{
 "cells": [
  {
   "attachments": {},
   "cell_type": "markdown",
   "metadata": {},
   "source": [
    "# DS321: Computational Statistics <br>\n",
    "\n",
    "##   Laboratory Exercise: Univariate (Secant Method) and Multivariate Optimization (Introduction)\n",
    "\n",
    "University of Science and Technology of Southern Philippines <br>\n",
    "\n",
    "## Student Name: <code>Student Name</code>\n",
    "\n",
    "\n",
    "Instructor: **Romen Samuel Wabina, MSc** <br>\n",
    "MSc Data Science and AI | Asian Institute of Technology <br>\n",
    "PhD Data Science (Healthcare and Clinical Informatics) \n",
    "\n",
    "\n",
    "### Instructions\n",
    "- Please submit this laboratory exercise as a **Jupyter Notebook file** <code>.ipynb</code> via email <code>romensamuelrodis.wab@student.mahidol.edu</code>\n",
    "- Always remember: I use GPTZero "
   ]
  },
  {
   "attachments": {},
   "cell_type": "markdown",
   "metadata": {},
   "source": [
    "## Univariate Optimization: Secant Method\n",
    "\n",
    "The updating increment for Newton’s method relies on the second derivative, $g''(x(t))$. Hence, the Newton's method uses a succession of roots through tangent lines to better approximate a root of a function $f$. However, calculating this derivative is difficult, it might be replaced by the discrete-difference approximation \n",
    "$$ \\frac{[g'(x^{(t)}) - g'(x^{(t−1)})]}{(x^{(t)} − x^{(t−1)})} $$\n",
    "The result is the \\textbf{secant method}, which has the updating equation\n",
    "$$ x^{(t+1)} = x^{(t)} - g'(x^{(t)}) \\frac{x^{(t)}-x^{(t-1)}}{g'(x^{(t)})-g'(x^{(t-1)})} $$\n",
    "for $t \\leq 1$. The Secant Method requires two starting points, $x^{(0)}$ and $x^{(1)}$.\n",
    "\n",
    "\n",
    "The Secant method is an approximation of the Newton-Raphson method. Instead of using the current value of $x$ to figure out the next value of $x$, we use the current and previous value of $x$ to figure out the next value of $x$. We use the Secant Method when the function's derivative is difficult to obtain."
   ]
  },
  {
   "attachments": {},
   "cell_type": "markdown",
   "metadata": {},
   "source": [
    "#### Example: Secant Method\n",
    "\n",
    "Suppose we want to find a root of the function $f(x) = x^3 - 3x + 1$ using the secant method. Let $x_0 = 1$ and $x_1 = 2$ be our initial guesses. Then the secant method iteration formula is:\n",
    "\n",
    "$$x_{n+1} = x_n - \\frac{f(x_n)(x_n - x_{n-1})}{f(x_n) - f(x_{n-1})}$$\n",
    "\n",
    "for $n = 1,2,\\ldots,10$. To calculate the derivative $f'(x)$, we can use the power rule:\n",
    "\n",
    "$$f'(x) = 3x^2 - 3$$\n",
    "\n",
    "To use the secant method, we start with two initial guesses, $x_0$ and $x_1$, and then use the formula:\n",
    "\n",
    "$$ x_{n+1} = x_n - \\frac{f(x_n) \\cdot (x_n - x_{n-1})}{f(x_n) - f(x_{n-1})} $$\n",
    "\n",
    "We can use this formula to find the root of the function $f(x) = x^3 - 3x + 1$ with initial guesses $x_0 = 1$ and $x_1 = 2$. "
   ]
  },
  {
   "cell_type": "code",
   "execution_count": 21,
   "metadata": {},
   "outputs": [
    {
     "name": "stdout",
     "output_type": "stream",
     "text": [
      "Iteration 1: \t 1.25\n",
      "Iteration 2: \t 1.4074074074074074\n",
      "Iteration 3: \t 1.5960829578880738\n",
      "Iteration 4: \t 1.5225014665093553\n",
      "Iteration 5: \t 1.5314246225018056\n",
      "Iteration 6: \t 1.532096197212711\n",
      "Iteration 7: \t 1.532088880712106\n",
      "Iteration 8: \t 1.5320888862379103\n",
      "Iteration 9: \t 1.532088886237956\n",
      "Iteration 10: \t 1.532088886237956\n",
      "Secant's method local optima: x =  1.532088886237956\n"
     ]
    }
   ],
   "source": [
    "def secant_method(f, x0, x1, iterations):\n",
    "    for i in range(iterations):\n",
    "        x2 = x1 - f(x1) * (x1 - x0) / float(f(x1) - f(x0))\n",
    "        x0, x1 = x1, x2\n",
    "        print(f'Iteration {i + 1}: \\t {x2}')\n",
    "    return x2\n",
    "\n",
    "def f_example(x):\n",
    "    return x ** 3 - (3 * x) + 1\n",
    "\n",
    "root = secant_method(f_example, 1, 2, 10)\n",
    "print(\"Secant's method local optima: x = \", root)"
   ]
  },
  {
   "cell_type": "code",
   "execution_count": 22,
   "metadata": {},
   "outputs": [
    {
     "name": "stdout",
     "output_type": "stream",
     "text": [
      "Iteration 0: \t 1.6666666666666667\n",
      "Iteration 1: \t 1.548611111111111\n",
      "Iteration 2: \t 1.5323901618653801\n",
      "Iteration 3: \t 1.5320889893972243\n",
      "Newton's method local optima: x =  1.532088886237968\n"
     ]
    }
   ],
   "source": [
    "import numpy as np \n",
    "import pandas as pd \n",
    "import math \n",
    "\n",
    "APPROX = 2\n",
    "TOL = 10**-5\n",
    "N = 10\n",
    "\n",
    "def f(x):\n",
    "    return math.pow(x, 3) - 3*x + 1\n",
    "\n",
    "def fprime(x):\n",
    "    return 3*math.pow(x, 2) - 3\n",
    "\n",
    "def newtons(approx, tol, n):\n",
    "    p0 = approx\n",
    "    for i in range(0, n):\n",
    "        p = p0 - (f(p0)/fprime(p0)) \n",
    "        if abs(p - p0) < tol:\n",
    "            return p\n",
    "        print(f'Iteration {i}: \\t {p}')\n",
    "        p0 = p\n",
    "    return \"The method failed after {} iterations\".format(n)\n",
    "\n",
    "output = newtons(APPROX, TOL, N)\n",
    "print(\"Newton's method local optima: x = \", output)"
   ]
  },
  {
   "attachments": {},
   "cell_type": "markdown",
   "metadata": {},
   "source": [
    "### <code>Question 1</code>: Modify the function <code>secant_method</code> by adding the tolerance value as a parameter in the function. Use the function to evaluate whether its number of iterations has decreased. \n",
    "### <code>Question 2</code>: Evaluate the following equations on Secant and Newton's method. Create a function that prints the local optima of both methods and measure their difference."
   ]
  },
  {
   "attachments": {},
   "cell_type": "markdown",
   "metadata": {},
   "source": [
    "## Partial Differentiation in <code>SciPy</code>\n",
    "\n",
    "For differentiation, <code>SymPy</code> provides us with the differential method to output the derivative of the function. Suppose we have a function $f(x) = x^2$. The derivative of the function with respect to x $f'(x) = 2x$. Let's see how can we achieve this using <code>SymPy diff()</code> function."
   ]
  },
  {
   "cell_type": "code",
   "execution_count": 5,
   "metadata": {},
   "outputs": [
    {
     "data": {
      "text/latex": [
       "$\\displaystyle 2 x$"
      ],
      "text/plain": [
       "2*x"
      ]
     },
     "execution_count": 5,
     "metadata": {},
     "output_type": "execute_result"
    }
   ],
   "source": [
    "from sympy import *\n",
    " \n",
    "# Create a symbol called x\n",
    "x = Symbol('x')\n",
    "\n",
    "#Define function\n",
    "f = x**2\n",
    "\n",
    "#Calculating Derivative\n",
    "derivative_f = f.diff(x)\n",
    "derivative_f"
   ]
  }
 ],
 "metadata": {
  "kernelspec": {
   "display_name": "Python 3",
   "language": "python",
   "name": "python3"
  },
  "language_info": {
   "codemirror_mode": {
    "name": "ipython",
    "version": 3
   },
   "file_extension": ".py",
   "mimetype": "text/x-python",
   "name": "python",
   "nbconvert_exporter": "python",
   "pygments_lexer": "ipython3",
   "version": "3.9.2"
  },
  "orig_nbformat": 4
 },
 "nbformat": 4,
 "nbformat_minor": 2
}
