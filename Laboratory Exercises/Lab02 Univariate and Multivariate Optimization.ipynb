{
 "cells": [
  {
   "attachments": {},
   "cell_type": "markdown",
   "metadata": {},
   "source": [
    "# DS321: Computational Statistics <br>\n",
    "\n",
    "##   Laboratory Exercise: Univariate (Secant Method) and Multivariate Optimization (Introduction)\n",
    "\n",
    "University of Science and Technology of Southern Philippines <br>\n",
    "\n",
    "## Student Name: <code>Student Name</code>\n",
    "\n",
    "\n",
    "Instructor: **Romen Samuel Wabina, MSc** <br>\n",
    "MSc Data Science and AI | Asian Institute of Technology <br>\n",
    "PhD Data Science (Healthcare and Clinical Informatics) \n",
    "\n",
    "\n",
    "### Instructions\n",
    "- Please submit this laboratory exercise as a **Jupyter Notebook file** <code>.ipynb</code> via email <code>romensamuelrodis.wab@student.mahidol.edu</code>\n",
    "- For Exercises 1 and 2, I took the liberty to create the functions <code>bisection</code> and <code>newtons</code> that prints the root for every iteration and returns the local optima of the given function. \n",
    "- Deadline will be on **18 March 2023** at **9AM**.\n",
    "- Always remember: I use GPTZero "
   ]
  },
  {
   "attachments": {},
   "cell_type": "markdown",
   "metadata": {},
   "source": [
    "## Univariate Optimization: Secant Method\n",
    "\n",
    "The updating increment for Newton’s method relies on the second derivative, $g''(x(t))$. Hence, the Newton's method uses a succession of roots through tangent lines to better approximate a root of a function $f$. However, calculating this derivative is difficult, it might be replaced by the discrete-difference approximation \n",
    "$$ \\frac{[g'(x^{(t)}) - g'(x^{(t−1)})]}{(x^{(t)} − x^{(t−1)})} $$\n",
    "The result is the \\textbf{secant method}, which has the updating equation\n",
    "$$ x^{(t+1)} = x^{(t)} - g'(x^{(t)}) \\frac{x^{(t)}-x^{(t-1)}}{g'(x^{(t)})-g'(x^{(t-1)})} $$\n",
    "for $t \\leq 1$. The Secant Method requires two starting points, $x^{(0)}$ and $x^{(1)}$."
   ]
  },
  {
   "cell_type": "code",
   "execution_count": 2,
   "metadata": {},
   "outputs": [
    {
     "name": "stdout",
     "output_type": "stream",
     "text": [
      "Iteration 0: \t 0.09460784396394763\n",
      "Iteration 1: \t 0.08924212135615266\n",
      "Iteration 2: \t 0.08390270459952838\n",
      "Iteration 3: \t 0.07858946980499493\n",
      "Iteration 4: \t 0.073302301387234\n",
      "Iteration 5: \t 0.06804110355606952\n",
      "Iteration 6: \t 0.06280582870164131\n",
      "Iteration 7: \t 0.05759654686253238\n",
      "Iteration 8: \t 0.052413613819564046\n",
      "Iteration 9: \t 0.04725807203022288\n",
      "Iteration 10: \t 0.042132588945245616\n",
      "Iteration 11: \t 0.03704359570230483\n",
      "Iteration 12: \t 0.032005974076450575\n",
      "Iteration 13: \t 0.027052700363534018\n",
      "Iteration 14: \t 0.02225261251039701\n",
      "Iteration 15: \t 0.017736720655889132\n",
      "Iteration 16: \t 0.013720002320203198\n",
      "Iteration 17: \t 0.010481012631890935\n",
      "Iteration 18: \t 0.00826523035351002\n",
      "Iteration 19: \t 0.00714155649361498\n",
      "Iteration 20: \t 0.006840168942220679\n",
      "Iteration 21: \t 0.0068194167138889965\n",
      "Newton's method local optima: x =  0.00681932148757599\n"
     ]
    }
   ],
   "source": [
    "import numpy as np \n",
    "import pandas as pd \n",
    "import math \n",
    "\n",
    "APPROX = 0.1\n",
    "TOL = 10**-5\n",
    "N = 100\n",
    "\n",
    "def f(x):\n",
    "    return math.pow((1+x), 204) - 440*x-1\n",
    "\n",
    "def fprime(x):\n",
    "    return 204*math.pow((x+1),203) - 440\n",
    "def newtons(approx, tol, n):\n",
    "    p0 = approx\n",
    "    for i in range(0, n):\n",
    "        p = p0 - (f(p0)/fprime(p0)) \n",
    "        if abs(p - p0) < tol:\n",
    "            return p\n",
    "        print(f'Iteration {i}: \\t {p}')\n",
    "        p0 = p\n",
    "    return \"The method failed after {} iterations\".format(n)\n",
    "\n",
    "output = newtons(APPROX, TOL, N)\n",
    "print(\"Newton's method local optima: x = \", output)"
   ]
  },
  {
   "attachments": {},
   "cell_type": "markdown",
   "metadata": {},
   "source": [
    "## Partial Differentiation in <code>SciPy</code>"
   ]
  }
 ],
 "metadata": {
  "kernelspec": {
   "display_name": "Python 3",
   "language": "python",
   "name": "python3"
  },
  "language_info": {
   "codemirror_mode": {
    "name": "ipython",
    "version": 3
   },
   "file_extension": ".py",
   "mimetype": "text/x-python",
   "name": "python",
   "nbconvert_exporter": "python",
   "pygments_lexer": "ipython3",
   "version": "3.9.2"
  },
  "orig_nbformat": 4
 },
 "nbformat": 4,
 "nbformat_minor": 2
}
