{
 "cells": [
  {
   "attachments": {},
   "cell_type": "markdown",
   "metadata": {},
   "source": [
    "# DS321: Computational Statistics <br>\n",
    "\n",
    "##   Laboratory Exercise: Resampling Methods\n",
    "\n",
    "University of Science and Technology of Southern Philippines <br>\n",
    "\n",
    "## Student Name: <code>Student Name</code>\n",
    "\n",
    "\n",
    "Instructor: **Romen Samuel Wabina, MSc** <br>\n",
    "MSc Data Science and AI | Asian Institute of Technology <br>\n",
    "*ongoing* PhD Data Science (Healthcare and Clinical Informatics) \n",
    "\n",
    "\n",
    "### Instructions\n",
    "- Please submit this laboratory exercise as a **Jupyter Notebook file** <code>.ipynb</code> via email <code>romensamuelrodis.wab@student.mahidol.edu</code>"
   ]
  },
  {
   "attachments": {},
   "cell_type": "markdown",
   "metadata": {},
   "source": [
    "#### K-Fold Cross Validation\n",
    "KFold divides the samples into k groups (folds) of approximately equal sizes. Out of these k groups, k-1 folds are used for training and the remaning one is used for testing.\n",
    "This process is repeated k times using the code: <code> KFold(n_splits = 5, *, shuffle = False, random_state = None) </code>\n"
   ]
  },
  {
   "cell_type": "code",
   "execution_count": 2,
   "metadata": {},
   "outputs": [],
   "source": [
    "import numpy as np\n",
    "from sklearn.model_selection import KFold\n",
    "import pandas as pd\n",
    "from sklearn.tree import DecisionTreeClassifier"
   ]
  },
  {
   "cell_type": "code",
   "execution_count": 5,
   "metadata": {},
   "outputs": [
    {
     "name": "stdout",
     "output_type": "stream",
     "text": [
      "Train:  [2 3 4 5] Test:  [0 1]\n",
      "Train:  [0 1 4 5] Test:  [2 3]\n",
      "Train:  [0 1 2 3] Test:  [4 5]\n"
     ]
    }
   ],
   "source": [
    "X = [\"a\",'b','c','d','e','f']\n",
    "\n",
    "kf = KFold(n_splits = 3,shuffle = False, random_state = None)\n",
    "for train, test in kf.split(X):\n",
    "    print('Train: ', train, 'Test: ', test)"
   ]
  },
  {
   "attachments": {},
   "cell_type": "markdown",
   "metadata": {},
   "source": [
    "#### Stratified K-Fold \n",
    "\n",
    "This technique is a variation of K-Fold, and it divides the data into k-stratified folds. This way it preserves the percentage of samples of each class present in the data. It generates test sets such that all sets contain the same distribution of classes, or as close as possible\n",
    "\n",
    "<code>sklearn.model_selection.StratifiedKFold(n_splits = 5, *, shuffle = False, random_state = None)</code>\n"
   ]
  },
  {
   "cell_type": "code",
   "execution_count": 6,
   "metadata": {},
   "outputs": [
    {
     "name": "stdout",
     "output_type": "stream",
     "text": [
      "Train:  [1 3 4 5] Test:  [0 2]\n",
      "Train:  [0 2 3 5] Test:  [1 4]\n",
      "Train:  [0 1 2 4] Test:  [3 5]\n"
     ]
    }
   ],
   "source": [
    "from sklearn.model_selection import StratifiedKFold\n",
    "\n",
    "X = np.array([[1,2], [3,4], [5,6], [7,8], [9,10], [11,12]])\n",
    "y = np.array([0, 0, 1, 0, 1, 1])\n",
    "\n",
    "skf = StratifiedKFold(n_splits = 3, random_state = None, shuffle = False)\n",
    "\n",
    "for train_index,test_index in skf.split(X,y):\n",
    "    print('Train: ', train_index, 'Test: ', test_index)\n",
    "    X_train,X_test = X[train_index], X[test_index]\n",
    "    y_train,y_test = y[train_index], y[test_index]\n"
   ]
  }
 ],
 "metadata": {
  "kernelspec": {
   "display_name": "Python 3",
   "language": "python",
   "name": "python3"
  },
  "language_info": {
   "codemirror_mode": {
    "name": "ipython",
    "version": 3
   },
   "file_extension": ".py",
   "mimetype": "text/x-python",
   "name": "python",
   "nbconvert_exporter": "python",
   "pygments_lexer": "ipython3",
   "version": "3.9.2"
  },
  "orig_nbformat": 4
 },
 "nbformat": 4,
 "nbformat_minor": 2
}
