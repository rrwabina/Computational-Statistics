{
 "cells": [
  {
   "cell_type": "code",
   "execution_count": 1,
   "metadata": {},
   "outputs": [],
   "source": [
    "import numpy as np "
   ]
  },
  {
   "cell_type": "code",
   "execution_count": 3,
   "metadata": {},
   "outputs": [
    {
     "data": {
      "text/plain": [
       "{'sunny': {'sunny': 0.8, 'rainy': 0.19, 'snowy': 0.01},\n",
       " 'rainy': {'sunny': 0.2, 'rainy': 0.7, 'snowy': 0.1},\n",
       " 'snowy': {'sunny': 0.1, 'rainy': 0.2, 'snowy': 0.7}}"
      ]
     },
     "execution_count": 3,
     "metadata": {},
     "output_type": "execute_result"
    }
   ],
   "source": [
    "transition_prob = {\n",
    "                    'sunny': {'sunny': 0.80, 'rainy': 0.19, 'snowy': 0.01},\n",
    "                    'rainy': {'sunny': 0.20, 'rainy': 0.70, 'snowy': 0.10},\n",
    "                    'snowy': {'sunny': 0.10, 'rainy': 0.20, 'snowy': 0.70},\n",
    "                  }\n",
    "\n",
    "transition_prob"
   ]
  },
  {
   "cell_type": "code",
   "execution_count": 5,
   "metadata": {},
   "outputs": [
    {
     "data": {
      "text/plain": [
       "['sunny', 'rainy', 'snowy']"
      ]
     },
     "execution_count": 5,
     "metadata": {},
     "output_type": "execute_result"
    }
   ],
   "source": [
    "next_state = list(transition_prob.keys())\n",
    "next_state"
   ]
  },
  {
   "cell_type": "code",
   "execution_count": 7,
   "metadata": {},
   "outputs": [
    {
     "data": {
      "text/plain": [
       "'sunny'"
      ]
     },
     "execution_count": 7,
     "metadata": {},
     "output_type": "execute_result"
    }
   ],
   "source": [
    "current_state = 'sunny'\n",
    "current_state"
   ]
  },
  {
   "cell_type": "code",
   "execution_count": 35,
   "metadata": {},
   "outputs": [],
   "source": [
    "weather = np.random.choice(next_state, p = [transition_prob[current_state][x] for x in transition_prob[current_state]])\n",
    "print(f'Tomorrow\\'s weather will be {weather} with a chance of {(transition_prob[current_state][weather])}')"
   ]
  },
  {
   "cell_type": "code",
   "execution_count": 38,
   "metadata": {},
   "outputs": [
    {
     "name": "stdout",
     "output_type": "stream",
     "text": [
      "The forecast for the weather for the next 10 days after tomorrow:\n",
      "1 day(s) after tomorrow's predicted weather: rainy with a chance of 0.7\n",
      "2 day(s) after tomorrow's predicted weather: rainy with a chance of 0.7\n",
      "3 day(s) after tomorrow's predicted weather: rainy with a chance of 0.7\n",
      "4 day(s) after tomorrow's predicted weather: rainy with a chance of 0.7\n",
      "5 day(s) after tomorrow's predicted weather: rainy with a chance of 0.7\n",
      "6 day(s) after tomorrow's predicted weather: rainy with a chance of 0.7\n",
      "7 day(s) after tomorrow's predicted weather: sunny with a chance of 0.2\n",
      "8 day(s) after tomorrow's predicted weather: sunny with a chance of 0.8\n",
      "9 day(s) after tomorrow's predicted weather: sunny with a chance of 0.8\n",
      "10 day(s) after tomorrow's predicted weather: sunny with a chance of 0.8\n"
     ]
    }
   ],
   "source": [
    "future_states, future_states_p = [], []\n",
    "n = 10\n",
    "\n",
    "# Current weather\n",
    "weather = 'rainy'\n",
    "\n",
    "for i in range(n):\n",
    "    current_state = weather \n",
    "    weather = np.random.choice(next_state, p = [transition_prob[current_state][x] for x in transition_prob[current_state]])\n",
    "    future_states.append(weather)\n",
    "    future_states_p.append(transition_prob[current_state][weather])\n",
    "\n",
    "print(f'The forecast for the weather for the next {n} days after tomorrow:')\n",
    "count = 1\n",
    "for i in range(len(future_states)):\n",
    "    print(f'{count} day(s) after tomorrow\\'s predicted weather: {future_states[i]} with a chance of {future_states_p[i]}')\n",
    "    count += 1"
   ]
  }
 ],
 "metadata": {
  "kernelspec": {
   "display_name": "Python 3",
   "language": "python",
   "name": "python3"
  },
  "language_info": {
   "codemirror_mode": {
    "name": "ipython",
    "version": 3
   },
   "file_extension": ".py",
   "mimetype": "text/x-python",
   "name": "python",
   "nbconvert_exporter": "python",
   "pygments_lexer": "ipython3",
   "version": "3.9.2"
  },
  "orig_nbformat": 4
 },
 "nbformat": 4,
 "nbformat_minor": 2
}
