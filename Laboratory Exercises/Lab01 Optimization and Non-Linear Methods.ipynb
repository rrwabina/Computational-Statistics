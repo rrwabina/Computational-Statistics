{
 "cells": [
  {
   "attachments": {},
   "cell_type": "markdown",
   "metadata": {},
   "source": [
    "# DS321: Computational Statistics <br>\n",
    "\n",
    "##   Laboratory Exercise: Univariate Optimization (Bisection Method and Newton's Method)\n",
    "\n",
    "University of Science and Technology of Southern Philippines <br>\n",
    "\n",
    "## Student Name: <code>Romen Samuel Wabina</code>\n",
    "\n",
    "\n",
    "Instructor: **Romen Samuel Wabina, MSc** <br>\n",
    "MSc Data Science and AI | Asian Institute of Technology <br>\n",
    "PhD Data Science (Healthcare and Clinical Informatics) \n",
    "\n",
    "\n",
    "### Instructions\n",
    "- Please submit this laboratory exercise as a **Jupyter Notebook file** <code>.ipynb</code> via email <code>romensamuelrodis.wab@student.mahidol.edu</code>\n",
    "- For Exercises 1 and 2, I took the liberty to create the functions <code>bisection</code> and <code>newtons</code> that prints the root for every iteration and returns the local optima of the given function. \n",
    "- Deadline will be on **18 March 2023** at **9AM**.\n",
    "- Always remember: I use GPTZero "
   ]
  },
  {
   "attachments": {},
   "cell_type": "markdown",
   "metadata": {},
   "source": [
    "\n",
    "### Bisection Method\n",
    "**Exercise 1** Please explain the given code below (i.e., guide questions: explain the parameters <code>f, A, B, TOL, N</code> of the function, how can it be used). \n"
   ]
  },
  {
   "cell_type": "code",
   "execution_count": 4,
   "metadata": {},
   "outputs": [
    {
     "name": "stdout",
     "output_type": "stream",
     "text": [
      "Iteration 0: \t 1.5\n",
      "Iteration 1: \t 1.75\n",
      "Iteration 2: \t 1.625\n",
      "Iteration 3: \t 1.5625\n",
      "Iteration 4: \t 1.53125\n",
      "Iteration 5: \t 1.515625\n",
      "Iteration 6: \t 1.5234375\n",
      "Iteration 7: \t 1.51953125\n",
      "Iteration 8: \t 1.521484375\n",
      "Iteration 9: \t 1.5205078125\n",
      "Iteration 10: \t 1.52099609375\n",
      "Iteration 11: \t 1.521240234375\n",
      "Iteration 12: \t 1.5213623046875\n",
      "Iteration 13: \t 1.52142333984375\n",
      "Iteration 14: \t 1.521392822265625\n",
      "Iteration 15: \t 1.5213775634765625\n",
      "Bisection method solution: x =  1.5213851928710938\n"
     ]
    }
   ],
   "source": [
    "import math\n",
    "\n",
    "TOL = 10**-5\n",
    "A = 1\n",
    "B = 2\n",
    "N = 100\n",
    "\n",
    "def f(x):\n",
    "    return (math.pow(x,3) - x - 2)\n",
    "\n",
    "def bisection(func, low, high, tol, N):\n",
    "    temp = None \n",
    "    if low > high:\n",
    "        low  = temp\n",
    "        low  = high\n",
    "        high = temp\n",
    "    if func(low)*func(high) > 0:\n",
    "        print(\"Check input for low and high guess (f(low) and f(high) must have different signs)\")\n",
    "    \n",
    "    lastFuncVal = func(low)\n",
    "    for i in range(0, N):\n",
    "        mid = (high+low)/2.0\n",
    "        if func(mid) == 0 or (high-low)/2.0 < tol:\n",
    "            return mid\n",
    "        print(f'Iteration {i}: \\t {mid}')\n",
    "        if func(mid)*func(low) > 0:\n",
    "            low = mid\n",
    "        else:\n",
    "            high = mid\n",
    "        lastFuncVal = func(mid)\n",
    "    return \"Method failed after {} iterations\".format(N)\n",
    "\n",
    "print(\"Bisection method solution: x = \", bisection(f, A, B, TOL, N))"
   ]
  },
  {
   "attachments": {},
   "cell_type": "markdown",
   "metadata": {},
   "source": [
    "Then, use the <code>bisection</code> function to the following equations. Explain their results. \n",
    "\n",
    "- $f(x) = 3x^{4} + 3x^2 + 45\\sqrt{x}$ with initial interval $[0, 10]$\n",
    "- $f(x) = x^3 - 4x - 9$ at interval $[2, 3]$\n",
    "- $f(x) = x^3 - 4$ at interval $[1, 2]$"
   ]
  },
  {
   "attachments": {},
   "cell_type": "markdown",
   "metadata": {},
   "source": [
    "### Newton-Rhapson's Method\n",
    "**Exercise 2** Please explain the given code below (i.e., guide questions: explain the parameters <code>APPROX, TOL, N</code> of the function, how can it be used). "
   ]
  },
  {
   "cell_type": "code",
   "execution_count": 4,
   "metadata": {},
   "outputs": [
    {
     "name": "stdout",
     "output_type": "stream",
     "text": [
      "Iteration 0: \t 0.09460784396394763\n",
      "Iteration 1: \t 0.08924212135615266\n",
      "Iteration 2: \t 0.08390270459952838\n",
      "Iteration 3: \t 0.07858946980499493\n",
      "Iteration 4: \t 0.073302301387234\n",
      "Iteration 5: \t 0.06804110355606952\n",
      "Iteration 6: \t 0.06280582870164131\n",
      "Iteration 7: \t 0.05759654686253238\n",
      "Iteration 8: \t 0.052413613819564046\n",
      "Iteration 9: \t 0.04725807203022288\n",
      "Iteration 10: \t 0.042132588945245616\n",
      "Iteration 11: \t 0.03704359570230483\n",
      "Iteration 12: \t 0.032005974076450575\n",
      "Iteration 13: \t 0.027052700363534018\n",
      "Iteration 14: \t 0.02225261251039701\n",
      "Iteration 15: \t 0.017736720655889132\n",
      "Iteration 16: \t 0.013720002320203198\n",
      "Iteration 17: \t 0.010481012631890935\n",
      "Iteration 18: \t 0.00826523035351002\n",
      "Iteration 19: \t 0.00714155649361498\n",
      "Iteration 20: \t 0.006840168942220679\n",
      "Iteration 21: \t 0.0068194167138889965\n",
      "Newton's method local optima: x =  0.00681932148757599\n"
     ]
    }
   ],
   "source": [
    "APPROX = 0.1\n",
    "TOL = 10**-5\n",
    "N = 100\n",
    "\n",
    "def f(x):\n",
    "    return math.pow((1+x),204)-440*x-1\n",
    "\n",
    "def fprime(x):\n",
    "    return 204*math.pow((x+1),203) - 440\n",
    "\n",
    "def newtons(approx, tol, n):\n",
    "    p0 = approx\n",
    "    for i in range(0, n):\n",
    "        p = p0 - (f(p0)/fprime(p0)) \n",
    "        if abs(p - p0) < tol:\n",
    "            return p\n",
    "        print(f'Iteration {i}: \\t {p}')\n",
    "        p0 = p\n",
    "    return \"The method failed after {} iterations\".format(n)\n",
    "\n",
    "output = newtons(APPROX, TOL, N)\n",
    "print(\"Newton's method local optima: x = \", output)"
   ]
  },
  {
   "attachments": {},
   "cell_type": "markdown",
   "metadata": {},
   "source": [
    "Then, use the <code>newtons</code> function to the following equations. Explain their results. \n",
    "\n",
    "- $f(x) = x^2 - 2$ where $x_0 = 1$ as the initial guess\n",
    "- $f(x) = 2x^3 + x^2 - x + 1$ where $x_0 = -5$ as the initial guess\n",
    "- $f(x) = \\frac{1}{3}x^{\\frac{-2}{3}}$ where $x_0 = 1$ as the initial guess\n",
    "- $f(x) = \\tan{x}$ where $x_0 = 0.1$ as the initial guess\n",
    "- $f(x) = x^3 - 7x^2 + 8x - 3$ where $x_0 = 0.45$ as the initial guess"
   ]
  },
  {
   "attachments": {},
   "cell_type": "markdown",
   "metadata": {},
   "source": [
    "**Exercise 3**. Write your own function! \n",
    "\n",
    "3. Write a function with the following function signature <code>newton(z, f, fprime, max_iter=100, tol=1e-6)</code> where\n",
    "- <code>z</code> is a starting value\n",
    "- <code>f</code> is a function of <code>z</code>\n",
    "- <code>fprime</code> is the derivative of <code>f</code>"
   ]
  }
 ],
 "metadata": {
  "kernelspec": {
   "display_name": "Python 3",
   "language": "python",
   "name": "python3"
  },
  "language_info": {
   "codemirror_mode": {
    "name": "ipython",
    "version": 3
   },
   "file_extension": ".py",
   "mimetype": "text/x-python",
   "name": "python",
   "nbconvert_exporter": "python",
   "pygments_lexer": "ipython3",
   "version": "3.9.2"
  },
  "orig_nbformat": 4
 },
 "nbformat": 4,
 "nbformat_minor": 2
}
